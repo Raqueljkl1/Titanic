{
  "cells": [
    {
      "cell_type": "markdown",
      "id": "321aee4f",
      "metadata": {
        "id": "321aee4f"
      },
      "source": [
        "# Titanic - Machine Learning from Disaster\n",
        "\n",
        "<img src=\"https://www.cnnbrasil.com.br/wp-content/uploads/sites/12/2023/06/titanic_navio_1912-e1687528104691.jpg?w=876&h=484&crop=1\" width=900>\n",
        "\n",
        "- Vamos empregar os dados atualmente acessíveis no Kaggle. [dados disponíveis no Kaggle](https://www.kaggle.com/competitions/titanic)\n",
        "    - Trata-se de um conjunto de dados destinado a uma competição\n",
        "    - A avaliação do desempenho decorre com base na acurácia:\n",
        "\n",
        "  *Sua pontuação reflete a porcentagem de passageiros que você é capaz de prever com precisão. Esse índice é conhecido como acurácia.*"
      ]
    },
    {
      "cell_type": "markdown",
      "id": "e860c1c7",
      "metadata": {
        "id": "e860c1c7"
      },
      "source": [
        "### Importando novamente as bases e fazendo o tratamento dos dados\n",
        "- Vamos apenas replicar o que fizemos no **[primeiro](https://github.com/Raqueljkl1/Titanic/blob/main/An%C3%A1lise_do_Titanic_Parte_1.ipynb)**, **[segundo](https://github.com/Raqueljkl1/Titanic/blob/main/Analise_do_Titanic_Parte_2.ipynb)** e **[terceiro](https://github.com/Raqueljkl1/Titanic/blob/main/An%C3%A1lise_do_Titanic_Parte_3.ipynb)** arquivo dessa análise (para visualizar os arquivos completos, visite esse link)"
      ]
    },
    {
      "cell_type": "code",
      "execution_count": 1,
      "id": "d3c866a6",
      "metadata": {
        "id": "d3c866a6"
      },
      "outputs": [],
      "source": [
        "# Importando o pandas\n",
        "import pandas as pd"
      ]
    },
    {
      "cell_type": "code",
      "execution_count": 3,
      "id": "0c7a7e15",
      "metadata": {
        "id": "0c7a7e15",
        "outputId": "98d29cd4-9211-426c-d6bd-38c0862fdb20",
        "colab": {
          "base_uri": "https://localhost:8080/",
          "height": 363
        }
      },
      "outputs": [
        {
          "output_type": "execute_result",
          "data": {
            "text/plain": [
              "   PassengerId  Survived  Pclass  \\\n",
              "0            1         0       3   \n",
              "1            2         1       1   \n",
              "2            3         1       3   \n",
              "\n",
              "                                                Name     Sex   Age  SibSp  \\\n",
              "0                            Braund, Mr. Owen Harris    male  22.0      1   \n",
              "1  Cumings, Mrs. John Bradley (Florence Briggs Th...  female  38.0      1   \n",
              "2                             Heikkinen, Miss. Laina  female  26.0      0   \n",
              "\n",
              "   Parch            Ticket     Fare Cabin Embarked  \n",
              "0      0         A/5 21171   7.2500   NaN        S  \n",
              "1      0          PC 17599  71.2833   C85        C  \n",
              "2      0  STON/O2. 3101282   7.9250   NaN        S  "
            ],
            "text/html": [
              "\n",
              "\n",
              "  <div id=\"df-280c32cf-095e-4732-ad58-5627a85ce111\">\n",
              "    <div class=\"colab-df-container\">\n",
              "      <div>\n",
              "<style scoped>\n",
              "    .dataframe tbody tr th:only-of-type {\n",
              "        vertical-align: middle;\n",
              "    }\n",
              "\n",
              "    .dataframe tbody tr th {\n",
              "        vertical-align: top;\n",
              "    }\n",
              "\n",
              "    .dataframe thead th {\n",
              "        text-align: right;\n",
              "    }\n",
              "</style>\n",
              "<table border=\"1\" class=\"dataframe\">\n",
              "  <thead>\n",
              "    <tr style=\"text-align: right;\">\n",
              "      <th></th>\n",
              "      <th>PassengerId</th>\n",
              "      <th>Survived</th>\n",
              "      <th>Pclass</th>\n",
              "      <th>Name</th>\n",
              "      <th>Sex</th>\n",
              "      <th>Age</th>\n",
              "      <th>SibSp</th>\n",
              "      <th>Parch</th>\n",
              "      <th>Ticket</th>\n",
              "      <th>Fare</th>\n",
              "      <th>Cabin</th>\n",
              "      <th>Embarked</th>\n",
              "    </tr>\n",
              "  </thead>\n",
              "  <tbody>\n",
              "    <tr>\n",
              "      <th>0</th>\n",
              "      <td>1</td>\n",
              "      <td>0</td>\n",
              "      <td>3</td>\n",
              "      <td>Braund, Mr. Owen Harris</td>\n",
              "      <td>male</td>\n",
              "      <td>22.0</td>\n",
              "      <td>1</td>\n",
              "      <td>0</td>\n",
              "      <td>A/5 21171</td>\n",
              "      <td>7.2500</td>\n",
              "      <td>NaN</td>\n",
              "      <td>S</td>\n",
              "    </tr>\n",
              "    <tr>\n",
              "      <th>1</th>\n",
              "      <td>2</td>\n",
              "      <td>1</td>\n",
              "      <td>1</td>\n",
              "      <td>Cumings, Mrs. John Bradley (Florence Briggs Th...</td>\n",
              "      <td>female</td>\n",
              "      <td>38.0</td>\n",
              "      <td>1</td>\n",
              "      <td>0</td>\n",
              "      <td>PC 17599</td>\n",
              "      <td>71.2833</td>\n",
              "      <td>C85</td>\n",
              "      <td>C</td>\n",
              "    </tr>\n",
              "    <tr>\n",
              "      <th>2</th>\n",
              "      <td>3</td>\n",
              "      <td>1</td>\n",
              "      <td>3</td>\n",
              "      <td>Heikkinen, Miss. Laina</td>\n",
              "      <td>female</td>\n",
              "      <td>26.0</td>\n",
              "      <td>0</td>\n",
              "      <td>0</td>\n",
              "      <td>STON/O2. 3101282</td>\n",
              "      <td>7.9250</td>\n",
              "      <td>NaN</td>\n",
              "      <td>S</td>\n",
              "    </tr>\n",
              "  </tbody>\n",
              "</table>\n",
              "</div>\n",
              "      <button class=\"colab-df-convert\" onclick=\"convertToInteractive('df-280c32cf-095e-4732-ad58-5627a85ce111')\"\n",
              "              title=\"Convert this dataframe to an interactive table.\"\n",
              "              style=\"display:none;\">\n",
              "\n",
              "  <svg xmlns=\"http://www.w3.org/2000/svg\" height=\"24px\"viewBox=\"0 0 24 24\"\n",
              "       width=\"24px\">\n",
              "    <path d=\"M0 0h24v24H0V0z\" fill=\"none\"/>\n",
              "    <path d=\"M18.56 5.44l.94 2.06.94-2.06 2.06-.94-2.06-.94-.94-2.06-.94 2.06-2.06.94zm-11 1L8.5 8.5l.94-2.06 2.06-.94-2.06-.94L8.5 2.5l-.94 2.06-2.06.94zm10 10l.94 2.06.94-2.06 2.06-.94-2.06-.94-.94-2.06-.94 2.06-2.06.94z\"/><path d=\"M17.41 7.96l-1.37-1.37c-.4-.4-.92-.59-1.43-.59-.52 0-1.04.2-1.43.59L10.3 9.45l-7.72 7.72c-.78.78-.78 2.05 0 2.83L4 21.41c.39.39.9.59 1.41.59.51 0 1.02-.2 1.41-.59l7.78-7.78 2.81-2.81c.8-.78.8-2.07 0-2.86zM5.41 20L4 18.59l7.72-7.72 1.47 1.35L5.41 20z\"/>\n",
              "  </svg>\n",
              "      </button>\n",
              "\n",
              "\n",
              "\n",
              "    <div id=\"df-ebe3a6be-96c4-40c2-aaf0-d888509f4a3c\">\n",
              "      <button class=\"colab-df-quickchart\" onclick=\"quickchart('df-ebe3a6be-96c4-40c2-aaf0-d888509f4a3c')\"\n",
              "              title=\"Suggest charts.\"\n",
              "              style=\"display:none;\">\n",
              "\n",
              "<svg xmlns=\"http://www.w3.org/2000/svg\" height=\"24px\"viewBox=\"0 0 24 24\"\n",
              "     width=\"24px\">\n",
              "    <g>\n",
              "        <path d=\"M19 3H5c-1.1 0-2 .9-2 2v14c0 1.1.9 2 2 2h14c1.1 0 2-.9 2-2V5c0-1.1-.9-2-2-2zM9 17H7v-7h2v7zm4 0h-2V7h2v10zm4 0h-2v-4h2v4z\"/>\n",
              "    </g>\n",
              "</svg>\n",
              "      </button>\n",
              "    </div>\n",
              "\n",
              "<style>\n",
              "  .colab-df-quickchart {\n",
              "    background-color: #E8F0FE;\n",
              "    border: none;\n",
              "    border-radius: 50%;\n",
              "    cursor: pointer;\n",
              "    display: none;\n",
              "    fill: #1967D2;\n",
              "    height: 32px;\n",
              "    padding: 0 0 0 0;\n",
              "    width: 32px;\n",
              "  }\n",
              "\n",
              "  .colab-df-quickchart:hover {\n",
              "    background-color: #E2EBFA;\n",
              "    box-shadow: 0px 1px 2px rgba(60, 64, 67, 0.3), 0px 1px 3px 1px rgba(60, 64, 67, 0.15);\n",
              "    fill: #174EA6;\n",
              "  }\n",
              "\n",
              "  [theme=dark] .colab-df-quickchart {\n",
              "    background-color: #3B4455;\n",
              "    fill: #D2E3FC;\n",
              "  }\n",
              "\n",
              "  [theme=dark] .colab-df-quickchart:hover {\n",
              "    background-color: #434B5C;\n",
              "    box-shadow: 0px 1px 3px 1px rgba(0, 0, 0, 0.15);\n",
              "    filter: drop-shadow(0px 1px 2px rgba(0, 0, 0, 0.3));\n",
              "    fill: #FFFFFF;\n",
              "  }\n",
              "</style>\n",
              "\n",
              "    <script>\n",
              "      async function quickchart(key) {\n",
              "        const containerElement = document.querySelector('#' + key);\n",
              "        const charts = await google.colab.kernel.invokeFunction(\n",
              "            'suggestCharts', [key], {});\n",
              "      }\n",
              "    </script>\n",
              "\n",
              "      <script>\n",
              "\n",
              "function displayQuickchartButton(domScope) {\n",
              "  let quickchartButtonEl =\n",
              "    domScope.querySelector('#df-ebe3a6be-96c4-40c2-aaf0-d888509f4a3c button.colab-df-quickchart');\n",
              "  quickchartButtonEl.style.display =\n",
              "    google.colab.kernel.accessAllowed ? 'block' : 'none';\n",
              "}\n",
              "\n",
              "        displayQuickchartButton(document);\n",
              "      </script>\n",
              "      <style>\n",
              "    .colab-df-container {\n",
              "      display:flex;\n",
              "      flex-wrap:wrap;\n",
              "      gap: 12px;\n",
              "    }\n",
              "\n",
              "    .colab-df-convert {\n",
              "      background-color: #E8F0FE;\n",
              "      border: none;\n",
              "      border-radius: 50%;\n",
              "      cursor: pointer;\n",
              "      display: none;\n",
              "      fill: #1967D2;\n",
              "      height: 32px;\n",
              "      padding: 0 0 0 0;\n",
              "      width: 32px;\n",
              "    }\n",
              "\n",
              "    .colab-df-convert:hover {\n",
              "      background-color: #E2EBFA;\n",
              "      box-shadow: 0px 1px 2px rgba(60, 64, 67, 0.3), 0px 1px 3px 1px rgba(60, 64, 67, 0.15);\n",
              "      fill: #174EA6;\n",
              "    }\n",
              "\n",
              "    [theme=dark] .colab-df-convert {\n",
              "      background-color: #3B4455;\n",
              "      fill: #D2E3FC;\n",
              "    }\n",
              "\n",
              "    [theme=dark] .colab-df-convert:hover {\n",
              "      background-color: #434B5C;\n",
              "      box-shadow: 0px 1px 3px 1px rgba(0, 0, 0, 0.15);\n",
              "      filter: drop-shadow(0px 1px 2px rgba(0, 0, 0, 0.3));\n",
              "      fill: #FFFFFF;\n",
              "    }\n",
              "  </style>\n",
              "\n",
              "      <script>\n",
              "        const buttonEl =\n",
              "          document.querySelector('#df-280c32cf-095e-4732-ad58-5627a85ce111 button.colab-df-convert');\n",
              "        buttonEl.style.display =\n",
              "          google.colab.kernel.accessAllowed ? 'block' : 'none';\n",
              "\n",
              "        async function convertToInteractive(key) {\n",
              "          const element = document.querySelector('#df-280c32cf-095e-4732-ad58-5627a85ce111');\n",
              "          const dataTable =\n",
              "            await google.colab.kernel.invokeFunction('convertToInteractive',\n",
              "                                                     [key], {});\n",
              "          if (!dataTable) return;\n",
              "\n",
              "          const docLinkHtml = 'Like what you see? Visit the ' +\n",
              "            '<a target=\"_blank\" href=https://colab.research.google.com/notebooks/data_table.ipynb>data table notebook</a>'\n",
              "            + ' to learn more about interactive tables.';\n",
              "          element.innerHTML = '';\n",
              "          dataTable['output_type'] = 'display_data';\n",
              "          await google.colab.output.renderOutput(dataTable, element);\n",
              "          const docLink = document.createElement('div');\n",
              "          docLink.innerHTML = docLinkHtml;\n",
              "          element.appendChild(docLink);\n",
              "        }\n",
              "      </script>\n",
              "    </div>\n",
              "  </div>\n"
            ]
          },
          "metadata": {},
          "execution_count": 3
        }
      ],
      "source": [
        "# Visualizando a base de treino\n",
        "treino = pd.read_csv('train.csv')\n",
        "treino.head(3)"
      ]
    },
    {
      "cell_type": "code",
      "execution_count": 4,
      "id": "a8bf6800",
      "metadata": {
        "id": "a8bf6800",
        "outputId": "07e4c5ee-2a29-46ec-fc9d-8d2cff0d72da",
        "colab": {
          "base_uri": "https://localhost:8080/",
          "height": 274
        }
      },
      "outputs": [
        {
          "output_type": "execute_result",
          "data": {
            "text/plain": [
              "   PassengerId  Pclass                              Name     Sex   Age  SibSp  \\\n",
              "0          892       3                  Kelly, Mr. James    male  34.5      0   \n",
              "1          893       3  Wilkes, Mrs. James (Ellen Needs)  female  47.0      1   \n",
              "2          894       2         Myles, Mr. Thomas Francis    male  62.0      0   \n",
              "\n",
              "   Parch  Ticket    Fare Cabin Embarked  \n",
              "0      0  330911  7.8292   NaN        Q  \n",
              "1      0  363272  7.0000   NaN        S  \n",
              "2      0  240276  9.6875   NaN        Q  "
            ],
            "text/html": [
              "\n",
              "\n",
              "  <div id=\"df-1d48ea07-067e-4805-b0ed-2758319ab41a\">\n",
              "    <div class=\"colab-df-container\">\n",
              "      <div>\n",
              "<style scoped>\n",
              "    .dataframe tbody tr th:only-of-type {\n",
              "        vertical-align: middle;\n",
              "    }\n",
              "\n",
              "    .dataframe tbody tr th {\n",
              "        vertical-align: top;\n",
              "    }\n",
              "\n",
              "    .dataframe thead th {\n",
              "        text-align: right;\n",
              "    }\n",
              "</style>\n",
              "<table border=\"1\" class=\"dataframe\">\n",
              "  <thead>\n",
              "    <tr style=\"text-align: right;\">\n",
              "      <th></th>\n",
              "      <th>PassengerId</th>\n",
              "      <th>Pclass</th>\n",
              "      <th>Name</th>\n",
              "      <th>Sex</th>\n",
              "      <th>Age</th>\n",
              "      <th>SibSp</th>\n",
              "      <th>Parch</th>\n",
              "      <th>Ticket</th>\n",
              "      <th>Fare</th>\n",
              "      <th>Cabin</th>\n",
              "      <th>Embarked</th>\n",
              "    </tr>\n",
              "  </thead>\n",
              "  <tbody>\n",
              "    <tr>\n",
              "      <th>0</th>\n",
              "      <td>892</td>\n",
              "      <td>3</td>\n",
              "      <td>Kelly, Mr. James</td>\n",
              "      <td>male</td>\n",
              "      <td>34.5</td>\n",
              "      <td>0</td>\n",
              "      <td>0</td>\n",
              "      <td>330911</td>\n",
              "      <td>7.8292</td>\n",
              "      <td>NaN</td>\n",
              "      <td>Q</td>\n",
              "    </tr>\n",
              "    <tr>\n",
              "      <th>1</th>\n",
              "      <td>893</td>\n",
              "      <td>3</td>\n",
              "      <td>Wilkes, Mrs. James (Ellen Needs)</td>\n",
              "      <td>female</td>\n",
              "      <td>47.0</td>\n",
              "      <td>1</td>\n",
              "      <td>0</td>\n",
              "      <td>363272</td>\n",
              "      <td>7.0000</td>\n",
              "      <td>NaN</td>\n",
              "      <td>S</td>\n",
              "    </tr>\n",
              "    <tr>\n",
              "      <th>2</th>\n",
              "      <td>894</td>\n",
              "      <td>2</td>\n",
              "      <td>Myles, Mr. Thomas Francis</td>\n",
              "      <td>male</td>\n",
              "      <td>62.0</td>\n",
              "      <td>0</td>\n",
              "      <td>0</td>\n",
              "      <td>240276</td>\n",
              "      <td>9.6875</td>\n",
              "      <td>NaN</td>\n",
              "      <td>Q</td>\n",
              "    </tr>\n",
              "  </tbody>\n",
              "</table>\n",
              "</div>\n",
              "      <button class=\"colab-df-convert\" onclick=\"convertToInteractive('df-1d48ea07-067e-4805-b0ed-2758319ab41a')\"\n",
              "              title=\"Convert this dataframe to an interactive table.\"\n",
              "              style=\"display:none;\">\n",
              "\n",
              "  <svg xmlns=\"http://www.w3.org/2000/svg\" height=\"24px\"viewBox=\"0 0 24 24\"\n",
              "       width=\"24px\">\n",
              "    <path d=\"M0 0h24v24H0V0z\" fill=\"none\"/>\n",
              "    <path d=\"M18.56 5.44l.94 2.06.94-2.06 2.06-.94-2.06-.94-.94-2.06-.94 2.06-2.06.94zm-11 1L8.5 8.5l.94-2.06 2.06-.94-2.06-.94L8.5 2.5l-.94 2.06-2.06.94zm10 10l.94 2.06.94-2.06 2.06-.94-2.06-.94-.94-2.06-.94 2.06-2.06.94z\"/><path d=\"M17.41 7.96l-1.37-1.37c-.4-.4-.92-.59-1.43-.59-.52 0-1.04.2-1.43.59L10.3 9.45l-7.72 7.72c-.78.78-.78 2.05 0 2.83L4 21.41c.39.39.9.59 1.41.59.51 0 1.02-.2 1.41-.59l7.78-7.78 2.81-2.81c.8-.78.8-2.07 0-2.86zM5.41 20L4 18.59l7.72-7.72 1.47 1.35L5.41 20z\"/>\n",
              "  </svg>\n",
              "      </button>\n",
              "\n",
              "\n",
              "\n",
              "    <div id=\"df-cc06f0b5-6e28-40eb-8964-ff65d9364d34\">\n",
              "      <button class=\"colab-df-quickchart\" onclick=\"quickchart('df-cc06f0b5-6e28-40eb-8964-ff65d9364d34')\"\n",
              "              title=\"Suggest charts.\"\n",
              "              style=\"display:none;\">\n",
              "\n",
              "<svg xmlns=\"http://www.w3.org/2000/svg\" height=\"24px\"viewBox=\"0 0 24 24\"\n",
              "     width=\"24px\">\n",
              "    <g>\n",
              "        <path d=\"M19 3H5c-1.1 0-2 .9-2 2v14c0 1.1.9 2 2 2h14c1.1 0 2-.9 2-2V5c0-1.1-.9-2-2-2zM9 17H7v-7h2v7zm4 0h-2V7h2v10zm4 0h-2v-4h2v4z\"/>\n",
              "    </g>\n",
              "</svg>\n",
              "      </button>\n",
              "    </div>\n",
              "\n",
              "<style>\n",
              "  .colab-df-quickchart {\n",
              "    background-color: #E8F0FE;\n",
              "    border: none;\n",
              "    border-radius: 50%;\n",
              "    cursor: pointer;\n",
              "    display: none;\n",
              "    fill: #1967D2;\n",
              "    height: 32px;\n",
              "    padding: 0 0 0 0;\n",
              "    width: 32px;\n",
              "  }\n",
              "\n",
              "  .colab-df-quickchart:hover {\n",
              "    background-color: #E2EBFA;\n",
              "    box-shadow: 0px 1px 2px rgba(60, 64, 67, 0.3), 0px 1px 3px 1px rgba(60, 64, 67, 0.15);\n",
              "    fill: #174EA6;\n",
              "  }\n",
              "\n",
              "  [theme=dark] .colab-df-quickchart {\n",
              "    background-color: #3B4455;\n",
              "    fill: #D2E3FC;\n",
              "  }\n",
              "\n",
              "  [theme=dark] .colab-df-quickchart:hover {\n",
              "    background-color: #434B5C;\n",
              "    box-shadow: 0px 1px 3px 1px rgba(0, 0, 0, 0.15);\n",
              "    filter: drop-shadow(0px 1px 2px rgba(0, 0, 0, 0.3));\n",
              "    fill: #FFFFFF;\n",
              "  }\n",
              "</style>\n",
              "\n",
              "    <script>\n",
              "      async function quickchart(key) {\n",
              "        const containerElement = document.querySelector('#' + key);\n",
              "        const charts = await google.colab.kernel.invokeFunction(\n",
              "            'suggestCharts', [key], {});\n",
              "      }\n",
              "    </script>\n",
              "\n",
              "      <script>\n",
              "\n",
              "function displayQuickchartButton(domScope) {\n",
              "  let quickchartButtonEl =\n",
              "    domScope.querySelector('#df-cc06f0b5-6e28-40eb-8964-ff65d9364d34 button.colab-df-quickchart');\n",
              "  quickchartButtonEl.style.display =\n",
              "    google.colab.kernel.accessAllowed ? 'block' : 'none';\n",
              "}\n",
              "\n",
              "        displayQuickchartButton(document);\n",
              "      </script>\n",
              "      <style>\n",
              "    .colab-df-container {\n",
              "      display:flex;\n",
              "      flex-wrap:wrap;\n",
              "      gap: 12px;\n",
              "    }\n",
              "\n",
              "    .colab-df-convert {\n",
              "      background-color: #E8F0FE;\n",
              "      border: none;\n",
              "      border-radius: 50%;\n",
              "      cursor: pointer;\n",
              "      display: none;\n",
              "      fill: #1967D2;\n",
              "      height: 32px;\n",
              "      padding: 0 0 0 0;\n",
              "      width: 32px;\n",
              "    }\n",
              "\n",
              "    .colab-df-convert:hover {\n",
              "      background-color: #E2EBFA;\n",
              "      box-shadow: 0px 1px 2px rgba(60, 64, 67, 0.3), 0px 1px 3px 1px rgba(60, 64, 67, 0.15);\n",
              "      fill: #174EA6;\n",
              "    }\n",
              "\n",
              "    [theme=dark] .colab-df-convert {\n",
              "      background-color: #3B4455;\n",
              "      fill: #D2E3FC;\n",
              "    }\n",
              "\n",
              "    [theme=dark] .colab-df-convert:hover {\n",
              "      background-color: #434B5C;\n",
              "      box-shadow: 0px 1px 3px 1px rgba(0, 0, 0, 0.15);\n",
              "      filter: drop-shadow(0px 1px 2px rgba(0, 0, 0, 0.3));\n",
              "      fill: #FFFFFF;\n",
              "    }\n",
              "  </style>\n",
              "\n",
              "      <script>\n",
              "        const buttonEl =\n",
              "          document.querySelector('#df-1d48ea07-067e-4805-b0ed-2758319ab41a button.colab-df-convert');\n",
              "        buttonEl.style.display =\n",
              "          google.colab.kernel.accessAllowed ? 'block' : 'none';\n",
              "\n",
              "        async function convertToInteractive(key) {\n",
              "          const element = document.querySelector('#df-1d48ea07-067e-4805-b0ed-2758319ab41a');\n",
              "          const dataTable =\n",
              "            await google.colab.kernel.invokeFunction('convertToInteractive',\n",
              "                                                     [key], {});\n",
              "          if (!dataTable) return;\n",
              "\n",
              "          const docLinkHtml = 'Like what you see? Visit the ' +\n",
              "            '<a target=\"_blank\" href=https://colab.research.google.com/notebooks/data_table.ipynb>data table notebook</a>'\n",
              "            + ' to learn more about interactive tables.';\n",
              "          element.innerHTML = '';\n",
              "          dataTable['output_type'] = 'display_data';\n",
              "          await google.colab.output.renderOutput(dataTable, element);\n",
              "          const docLink = document.createElement('div');\n",
              "          docLink.innerHTML = docLinkHtml;\n",
              "          element.appendChild(docLink);\n",
              "        }\n",
              "      </script>\n",
              "    </div>\n",
              "  </div>\n"
            ]
          },
          "metadata": {},
          "execution_count": 4
        }
      ],
      "source": [
        "# Visualizando a base de teste\n",
        "teste = pd.read_csv('test.csv')\n",
        "teste.head(3)"
      ]
    },
    {
      "cell_type": "markdown",
      "id": "da9d4907",
      "metadata": {
        "id": "da9d4907"
      },
      "source": [
        "- Fazendo o mesmo tratamento inicial que fizemos nas colunas vazias"
      ]
    },
    {
      "cell_type": "code",
      "execution_count": 5,
      "id": "bf0433e5",
      "metadata": {
        "id": "bf0433e5"
      },
      "outputs": [],
      "source": [
        "# Eliminando as colunas com elevada cardinalidade\n",
        "treino = treino.drop(['Name','Ticket','Cabin'],axis=1)\n",
        "teste = teste.drop(['Name','Ticket','Cabin'],axis=1)"
      ]
    },
    {
      "cell_type": "code",
      "execution_count": 6,
      "id": "fb7cfa69",
      "metadata": {
        "id": "fb7cfa69"
      },
      "outputs": [],
      "source": [
        "# Usando a média para substituir valores nulos na coluna de idade\n",
        "treino.loc[treino.Age.isnull(),'Age'] = treino.Age.mean()\n",
        "teste.loc[teste.Age.isnull(),'Age'] = teste.Age.mean()"
      ]
    },
    {
      "cell_type": "code",
      "execution_count": 7,
      "id": "5ae224c0",
      "metadata": {
        "id": "5ae224c0"
      },
      "outputs": [],
      "source": [
        "# Tratando a coluna Embarked da base de treino usando a moda\n",
        "treino.loc[treino.Embarked.isnull(),'Embarked'] = treino.Embarked.mode()[0]"
      ]
    },
    {
      "cell_type": "code",
      "execution_count": 8,
      "id": "2d38ce71",
      "metadata": {
        "id": "2d38ce71"
      },
      "outputs": [],
      "source": [
        "# E também a coluna Fare da base de teste usando a média\n",
        "teste.loc[teste.Fare.isnull(),'Fare'] = teste.Fare.mean()"
      ]
    },
    {
      "cell_type": "markdown",
      "id": "fb0a6462",
      "metadata": {
        "id": "fb0a6462"
      },
      "source": [
        "- E fazendo a engenharia de variáveis dos nossos dados"
      ]
    },
    {
      "cell_type": "code",
      "execution_count": 9,
      "id": "9ef39208",
      "metadata": {
        "id": "9ef39208"
      },
      "outputs": [],
      "source": [
        "# Usando uma lambda function para tratar a coluna \"Sex\"\n",
        "treino['MaleCheck'] = treino.Sex.apply(lambda x: 1 if x == 'male' else 0)\n",
        "teste['MaleCheck'] = teste.Sex.apply(lambda x: 1 if x == 'male' else 0)"
      ]
    },
    {
      "cell_type": "code",
      "execution_count": 10,
      "id": "e062a6fe",
      "metadata": {
        "id": "e062a6fe"
      },
      "outputs": [],
      "source": [
        "# Fazendo o RobustScaler das colunas Age e Fare\n",
        "from sklearn.preprocessing import RobustScaler\n",
        "transformer = RobustScaler().fit(treino[['Age','Fare']])\n",
        "treino[['Age','Fare']] = transformer.transform(treino[['Age','Fare']])\n",
        "\n",
        "# e para a base de teste\n",
        "transformer = RobustScaler().fit(teste[['Age','Fare']])\n",
        "teste[['Age','Fare']] = transformer.transform(teste[['Age','Fare']])"
      ]
    },
    {
      "cell_type": "code",
      "execution_count": 11,
      "id": "d3569798",
      "metadata": {
        "id": "d3569798"
      },
      "outputs": [],
      "source": [
        "# Adicionando a coluna sozinho\n",
        "def sozinho(a,b):\n",
        "    if (a == 0 and b == 0):\n",
        "        return 1\n",
        "    else:\n",
        "        return 0\n",
        "\n",
        "treino['Sozinho'] = treino.apply(lambda x: sozinho(x.SibSp,x.Parch),axis=1)\n",
        "teste['Sozinho'] = teste.apply(lambda x: sozinho(x.SibSp,x.Parch),axis=1)"
      ]
    },
    {
      "cell_type": "code",
      "execution_count": 12,
      "id": "6379be96",
      "metadata": {
        "id": "6379be96"
      },
      "outputs": [],
      "source": [
        "# E criando a coluna de familiares\n",
        "treino['Familiares'] = treino.SibSp + treino.Parch\n",
        "teste['Familiares'] = treino.SibSp + treino.Parch"
      ]
    },
    {
      "cell_type": "code",
      "execution_count": 13,
      "id": "25f9b8bb",
      "metadata": {
        "id": "25f9b8bb"
      },
      "outputs": [],
      "source": [
        "# Fazendo o OrdinalEncoder para a coluna Embarked\n",
        "from sklearn.preprocessing import OrdinalEncoder\n",
        "categorias = ['S','C','Q']\n",
        "\n",
        "enc = OrdinalEncoder(categories=[categorias],dtype='int32')\n",
        "enc = enc.fit(treino[['Embarked']])\n",
        "treino['Embarked'] = enc.transform(treino[['Embarked']])\n",
        "\n",
        "teste['Embarked'] = enc.transform(teste[['Embarked']])"
      ]
    },
    {
      "cell_type": "code",
      "execution_count": 14,
      "id": "81ca0d1c",
      "metadata": {
        "id": "81ca0d1c"
      },
      "outputs": [],
      "source": [
        "# Apagando as colunas de texto\n",
        "treino = treino.drop('Sex',axis=1)\n",
        "teste = teste.drop('Sex',axis=1)"
      ]
    },
    {
      "cell_type": "markdown",
      "id": "f1bbb277",
      "metadata": {
        "id": "f1bbb277"
      },
      "source": [
        "- Visualizando a base resultante"
      ]
    },
    {
      "cell_type": "code",
      "execution_count": 15,
      "id": "6cfd7f55",
      "metadata": {
        "id": "6cfd7f55",
        "outputId": "dae19d80-0136-4eb5-ce7e-999278b67a74",
        "colab": {
          "base_uri": "https://localhost:8080/",
          "height": 207
        }
      },
      "outputs": [
        {
          "output_type": "execute_result",
          "data": {
            "text/plain": [
              "   PassengerId  Survived  Pclass       Age  SibSp  Parch      Fare  Embarked  \\\n",
              "0            1         0       3 -0.592240      1      0 -0.312011         0   \n",
              "1            2         1       1  0.638529      1      0  2.461242         1   \n",
              "2            3         1       3 -0.284548      0      0 -0.282777         0   \n",
              "\n",
              "   MaleCheck  Sozinho  Familiares  \n",
              "0          1        0           1  \n",
              "1          0        0           1  \n",
              "2          0        1           0  "
            ],
            "text/html": [
              "\n",
              "\n",
              "  <div id=\"df-56f9dc59-6329-4b1c-979c-8473da8f17c7\">\n",
              "    <div class=\"colab-df-container\">\n",
              "      <div>\n",
              "<style scoped>\n",
              "    .dataframe tbody tr th:only-of-type {\n",
              "        vertical-align: middle;\n",
              "    }\n",
              "\n",
              "    .dataframe tbody tr th {\n",
              "        vertical-align: top;\n",
              "    }\n",
              "\n",
              "    .dataframe thead th {\n",
              "        text-align: right;\n",
              "    }\n",
              "</style>\n",
              "<table border=\"1\" class=\"dataframe\">\n",
              "  <thead>\n",
              "    <tr style=\"text-align: right;\">\n",
              "      <th></th>\n",
              "      <th>PassengerId</th>\n",
              "      <th>Survived</th>\n",
              "      <th>Pclass</th>\n",
              "      <th>Age</th>\n",
              "      <th>SibSp</th>\n",
              "      <th>Parch</th>\n",
              "      <th>Fare</th>\n",
              "      <th>Embarked</th>\n",
              "      <th>MaleCheck</th>\n",
              "      <th>Sozinho</th>\n",
              "      <th>Familiares</th>\n",
              "    </tr>\n",
              "  </thead>\n",
              "  <tbody>\n",
              "    <tr>\n",
              "      <th>0</th>\n",
              "      <td>1</td>\n",
              "      <td>0</td>\n",
              "      <td>3</td>\n",
              "      <td>-0.592240</td>\n",
              "      <td>1</td>\n",
              "      <td>0</td>\n",
              "      <td>-0.312011</td>\n",
              "      <td>0</td>\n",
              "      <td>1</td>\n",
              "      <td>0</td>\n",
              "      <td>1</td>\n",
              "    </tr>\n",
              "    <tr>\n",
              "      <th>1</th>\n",
              "      <td>2</td>\n",
              "      <td>1</td>\n",
              "      <td>1</td>\n",
              "      <td>0.638529</td>\n",
              "      <td>1</td>\n",
              "      <td>0</td>\n",
              "      <td>2.461242</td>\n",
              "      <td>1</td>\n",
              "      <td>0</td>\n",
              "      <td>0</td>\n",
              "      <td>1</td>\n",
              "    </tr>\n",
              "    <tr>\n",
              "      <th>2</th>\n",
              "      <td>3</td>\n",
              "      <td>1</td>\n",
              "      <td>3</td>\n",
              "      <td>-0.284548</td>\n",
              "      <td>0</td>\n",
              "      <td>0</td>\n",
              "      <td>-0.282777</td>\n",
              "      <td>0</td>\n",
              "      <td>0</td>\n",
              "      <td>1</td>\n",
              "      <td>0</td>\n",
              "    </tr>\n",
              "  </tbody>\n",
              "</table>\n",
              "</div>\n",
              "      <button class=\"colab-df-convert\" onclick=\"convertToInteractive('df-56f9dc59-6329-4b1c-979c-8473da8f17c7')\"\n",
              "              title=\"Convert this dataframe to an interactive table.\"\n",
              "              style=\"display:none;\">\n",
              "\n",
              "  <svg xmlns=\"http://www.w3.org/2000/svg\" height=\"24px\"viewBox=\"0 0 24 24\"\n",
              "       width=\"24px\">\n",
              "    <path d=\"M0 0h24v24H0V0z\" fill=\"none\"/>\n",
              "    <path d=\"M18.56 5.44l.94 2.06.94-2.06 2.06-.94-2.06-.94-.94-2.06-.94 2.06-2.06.94zm-11 1L8.5 8.5l.94-2.06 2.06-.94-2.06-.94L8.5 2.5l-.94 2.06-2.06.94zm10 10l.94 2.06.94-2.06 2.06-.94-2.06-.94-.94-2.06-.94 2.06-2.06.94z\"/><path d=\"M17.41 7.96l-1.37-1.37c-.4-.4-.92-.59-1.43-.59-.52 0-1.04.2-1.43.59L10.3 9.45l-7.72 7.72c-.78.78-.78 2.05 0 2.83L4 21.41c.39.39.9.59 1.41.59.51 0 1.02-.2 1.41-.59l7.78-7.78 2.81-2.81c.8-.78.8-2.07 0-2.86zM5.41 20L4 18.59l7.72-7.72 1.47 1.35L5.41 20z\"/>\n",
              "  </svg>\n",
              "      </button>\n",
              "\n",
              "\n",
              "\n",
              "    <div id=\"df-55761dd4-5bd7-4a18-ba67-a09eb91240a7\">\n",
              "      <button class=\"colab-df-quickchart\" onclick=\"quickchart('df-55761dd4-5bd7-4a18-ba67-a09eb91240a7')\"\n",
              "              title=\"Suggest charts.\"\n",
              "              style=\"display:none;\">\n",
              "\n",
              "<svg xmlns=\"http://www.w3.org/2000/svg\" height=\"24px\"viewBox=\"0 0 24 24\"\n",
              "     width=\"24px\">\n",
              "    <g>\n",
              "        <path d=\"M19 3H5c-1.1 0-2 .9-2 2v14c0 1.1.9 2 2 2h14c1.1 0 2-.9 2-2V5c0-1.1-.9-2-2-2zM9 17H7v-7h2v7zm4 0h-2V7h2v10zm4 0h-2v-4h2v4z\"/>\n",
              "    </g>\n",
              "</svg>\n",
              "      </button>\n",
              "    </div>\n",
              "\n",
              "<style>\n",
              "  .colab-df-quickchart {\n",
              "    background-color: #E8F0FE;\n",
              "    border: none;\n",
              "    border-radius: 50%;\n",
              "    cursor: pointer;\n",
              "    display: none;\n",
              "    fill: #1967D2;\n",
              "    height: 32px;\n",
              "    padding: 0 0 0 0;\n",
              "    width: 32px;\n",
              "  }\n",
              "\n",
              "  .colab-df-quickchart:hover {\n",
              "    background-color: #E2EBFA;\n",
              "    box-shadow: 0px 1px 2px rgba(60, 64, 67, 0.3), 0px 1px 3px 1px rgba(60, 64, 67, 0.15);\n",
              "    fill: #174EA6;\n",
              "  }\n",
              "\n",
              "  [theme=dark] .colab-df-quickchart {\n",
              "    background-color: #3B4455;\n",
              "    fill: #D2E3FC;\n",
              "  }\n",
              "\n",
              "  [theme=dark] .colab-df-quickchart:hover {\n",
              "    background-color: #434B5C;\n",
              "    box-shadow: 0px 1px 3px 1px rgba(0, 0, 0, 0.15);\n",
              "    filter: drop-shadow(0px 1px 2px rgba(0, 0, 0, 0.3));\n",
              "    fill: #FFFFFF;\n",
              "  }\n",
              "</style>\n",
              "\n",
              "    <script>\n",
              "      async function quickchart(key) {\n",
              "        const containerElement = document.querySelector('#' + key);\n",
              "        const charts = await google.colab.kernel.invokeFunction(\n",
              "            'suggestCharts', [key], {});\n",
              "      }\n",
              "    </script>\n",
              "\n",
              "      <script>\n",
              "\n",
              "function displayQuickchartButton(domScope) {\n",
              "  let quickchartButtonEl =\n",
              "    domScope.querySelector('#df-55761dd4-5bd7-4a18-ba67-a09eb91240a7 button.colab-df-quickchart');\n",
              "  quickchartButtonEl.style.display =\n",
              "    google.colab.kernel.accessAllowed ? 'block' : 'none';\n",
              "}\n",
              "\n",
              "        displayQuickchartButton(document);\n",
              "      </script>\n",
              "      <style>\n",
              "    .colab-df-container {\n",
              "      display:flex;\n",
              "      flex-wrap:wrap;\n",
              "      gap: 12px;\n",
              "    }\n",
              "\n",
              "    .colab-df-convert {\n",
              "      background-color: #E8F0FE;\n",
              "      border: none;\n",
              "      border-radius: 50%;\n",
              "      cursor: pointer;\n",
              "      display: none;\n",
              "      fill: #1967D2;\n",
              "      height: 32px;\n",
              "      padding: 0 0 0 0;\n",
              "      width: 32px;\n",
              "    }\n",
              "\n",
              "    .colab-df-convert:hover {\n",
              "      background-color: #E2EBFA;\n",
              "      box-shadow: 0px 1px 2px rgba(60, 64, 67, 0.3), 0px 1px 3px 1px rgba(60, 64, 67, 0.15);\n",
              "      fill: #174EA6;\n",
              "    }\n",
              "\n",
              "    [theme=dark] .colab-df-convert {\n",
              "      background-color: #3B4455;\n",
              "      fill: #D2E3FC;\n",
              "    }\n",
              "\n",
              "    [theme=dark] .colab-df-convert:hover {\n",
              "      background-color: #434B5C;\n",
              "      box-shadow: 0px 1px 3px 1px rgba(0, 0, 0, 0.15);\n",
              "      filter: drop-shadow(0px 1px 2px rgba(0, 0, 0, 0.3));\n",
              "      fill: #FFFFFF;\n",
              "    }\n",
              "  </style>\n",
              "\n",
              "      <script>\n",
              "        const buttonEl =\n",
              "          document.querySelector('#df-56f9dc59-6329-4b1c-979c-8473da8f17c7 button.colab-df-convert');\n",
              "        buttonEl.style.display =\n",
              "          google.colab.kernel.accessAllowed ? 'block' : 'none';\n",
              "\n",
              "        async function convertToInteractive(key) {\n",
              "          const element = document.querySelector('#df-56f9dc59-6329-4b1c-979c-8473da8f17c7');\n",
              "          const dataTable =\n",
              "            await google.colab.kernel.invokeFunction('convertToInteractive',\n",
              "                                                     [key], {});\n",
              "          if (!dataTable) return;\n",
              "\n",
              "          const docLinkHtml = 'Like what you see? Visit the ' +\n",
              "            '<a target=\"_blank\" href=https://colab.research.google.com/notebooks/data_table.ipynb>data table notebook</a>'\n",
              "            + ' to learn more about interactive tables.';\n",
              "          element.innerHTML = '';\n",
              "          dataTable['output_type'] = 'display_data';\n",
              "          await google.colab.output.renderOutput(dataTable, element);\n",
              "          const docLink = document.createElement('div');\n",
              "          docLink.innerHTML = docLinkHtml;\n",
              "          element.appendChild(docLink);\n",
              "        }\n",
              "      </script>\n",
              "    </div>\n",
              "  </div>\n"
            ]
          },
          "metadata": {},
          "execution_count": 15
        }
      ],
      "source": [
        "# Visualizando a base de treino\n",
        "treino.head(3)"
      ]
    },
    {
      "cell_type": "markdown",
      "id": "6795fb4c",
      "metadata": {
        "id": "6795fb4c"
      },
      "source": [
        "### Podemos utilizar outros modelos para fazer a previsão"
      ]
    },
    {
      "cell_type": "markdown",
      "id": "7a7c3c7f",
      "metadata": {
        "id": "7a7c3c7f"
      },
      "source": [
        "- Podemos selecionar algoritmos diferentes dos que vimos nas partes anteriores (consulte arquivo da **[parte 1](https://github.com/lucaslealx/Titanic/blob/main/Parte1.ipynb)**) considerando os (outros algoritmos disponíveis no scikit-learn](https://scikit-learn.org/stable/supervised_learning.html#supervised-learning)\n",
        "    - **Regressão Logística**\n",
        "        - https://scikit-learn.org/stable/modules/generated/sklearn.linear_model.LogisticRegression.html#sklearn.linear_model.LogisticRegression\n",
        "    - **Random Forest**\n",
        "        - https://scikit-learn.org/stable/modules/generated/sklearn.ensemble.RandomForestClassifier.html#sklearn.ensemble.RandomForestClassifier\n",
        "    - **MLPClassifier (Redes Neurais)**\n",
        "        - https://scikit-learn.org/stable/modules/generated/sklearn.neural_network.MLPClassifier.html#sklearn.neural_network.MLPClassifier\n",
        "\n",
        "\n",
        "- Agora, **além do train_test_split**:\n",
        "    - https://scikit-learn.org/stable/modules/generated/sklearn.model_selection.train_test_split.html\n",
        "- Vamos usar também o **grid_search** para estimar os melhores parâmetros\n",
        "    - https://scikit-learn.org/stable/modules/generated/sklearn.model_selection.GridSearchCV.html"
      ]
    },
    {
      "cell_type": "code",
      "execution_count": 16,
      "id": "f7db06c4",
      "metadata": {
        "id": "f7db06c4"
      },
      "outputs": [],
      "source": [
        "# Importando o train_test_split\n",
        "from sklearn.model_selection import train_test_split"
      ]
    },
    {
      "cell_type": "code",
      "execution_count": 17,
      "id": "8b931a61",
      "metadata": {
        "id": "8b931a61"
      },
      "outputs": [],
      "source": [
        "# Separando a base de treino em X e y\n",
        "X = treino.drop(['PassengerId','Survived'],axis=1)\n",
        "y = treino.Survived"
      ]
    },
    {
      "cell_type": "code",
      "execution_count": 18,
      "id": "e8bd0d2f",
      "metadata": {
        "id": "e8bd0d2f"
      },
      "outputs": [],
      "source": [
        "# Separando em treino e validação\n",
        "X_train, X_val, y_train, y_val = train_test_split(X, y, test_size=0.2, random_state=42)"
      ]
    },
    {
      "cell_type": "markdown",
      "id": "d7a681fb",
      "metadata": {
        "id": "d7a681fb"
      },
      "source": [
        "- Para a **Regressão Logística**"
      ]
    },
    {
      "cell_type": "code",
      "execution_count": 19,
      "id": "acdb8597",
      "metadata": {
        "id": "acdb8597"
      },
      "outputs": [],
      "source": [
        "# Importando\n",
        "from sklearn.linear_model import LogisticRegression"
      ]
    },
    {
      "cell_type": "code",
      "execution_count": 20,
      "id": "57a895ac",
      "metadata": {
        "id": "57a895ac"
      },
      "outputs": [],
      "source": [
        "# Criando o classificador\n",
        "clf_rl = LogisticRegression(random_state=42)"
      ]
    },
    {
      "cell_type": "code",
      "execution_count": 21,
      "id": "577ab4ba",
      "metadata": {
        "id": "577ab4ba"
      },
      "outputs": [],
      "source": [
        "# Definindo os parâmetros\n",
        "parametros_rl = {\n",
        "    'penalty': ['l1','l2'],\n",
        "    'C': [0.01,0.1,1,10],\n",
        "    'solver': ['lbfgs','liblinear','saga'],\n",
        "    'max_iter': [100,1000,5000,10000]\n",
        "}"
      ]
    },
    {
      "cell_type": "markdown",
      "id": "85059259",
      "metadata": {
        "id": "85059259"
      },
      "source": [
        "- Para o **Random Forest**"
      ]
    },
    {
      "cell_type": "code",
      "execution_count": 22,
      "id": "340ac902",
      "metadata": {
        "id": "340ac902"
      },
      "outputs": [],
      "source": [
        "# Importando\n",
        "from sklearn.ensemble import RandomForestClassifier"
      ]
    },
    {
      "cell_type": "code",
      "execution_count": 23,
      "id": "730fef1c",
      "metadata": {
        "id": "730fef1c"
      },
      "outputs": [],
      "source": [
        "# Criando o classificador\n",
        "clf_rf = RandomForestClassifier(random_state=42)"
      ]
    },
    {
      "cell_type": "code",
      "execution_count": 24,
      "id": "c4abfcce",
      "metadata": {
        "id": "c4abfcce"
      },
      "outputs": [],
      "source": [
        "# Definindo os parâmetros\n",
        "parametros_rf = {\n",
        "    'n_estimators': [100,200,500,1000],\n",
        "    'criterion': ['gini','entropy','log_loss'],\n",
        "    'max_depth': [2,4,6,8,None],\n",
        "    'max_features': ['sqrt','log2',None]\n",
        "}"
      ]
    },
    {
      "cell_type": "markdown",
      "id": "41f10e9a",
      "metadata": {
        "id": "41f10e9a"
      },
      "source": [
        "- E para o **MLPClassifier (Redes Neurais)**"
      ]
    },
    {
      "cell_type": "code",
      "execution_count": 25,
      "id": "ddb514c5",
      "metadata": {
        "id": "ddb514c5"
      },
      "outputs": [],
      "source": [
        "# Importando\n",
        "from sklearn.neural_network import MLPClassifier"
      ]
    },
    {
      "cell_type": "code",
      "execution_count": 26,
      "id": "3a9c4289",
      "metadata": {
        "id": "3a9c4289"
      },
      "outputs": [],
      "source": [
        "# Criando o classificador\n",
        "clf_mlp = MLPClassifier(random_state=42)"
      ]
    },
    {
      "cell_type": "code",
      "execution_count": 27,
      "id": "2c92a39f",
      "metadata": {
        "id": "2c92a39f"
      },
      "outputs": [],
      "source": [
        "# Definindo os parâmetros\n",
        "parametros_mlp = {\n",
        "    'solver':  ['lbfgs','sgd','adam'],\n",
        "    'alpha': [10.0**(-1),10.0**(-5),10.0**(-7),10.0**(-10)],\n",
        "    'max_iter': [200,500,1000,5000]\n",
        "}"
      ]
    },
    {
      "cell_type": "markdown",
      "id": "d71bf218",
      "metadata": {
        "id": "d71bf218"
      },
      "source": [
        "- **Fazendo o grid_search**"
      ]
    },
    {
      "cell_type": "code",
      "execution_count": 28,
      "id": "ac638c82",
      "metadata": {
        "id": "ac638c82"
      },
      "outputs": [],
      "source": [
        "# Ignorando os avisos\n",
        "import warnings\n",
        "warnings.filterwarnings('ignore')"
      ]
    },
    {
      "cell_type": "code",
      "execution_count": 29,
      "id": "11b7bdf1",
      "metadata": {
        "id": "11b7bdf1"
      },
      "outputs": [],
      "source": [
        "# Importando o datetime para visualizar a hora atual\n",
        "from datetime import datetime\n",
        "def hora_atual():\n",
        "    agora = datetime.now()\n",
        "    print(str(agora.hour)+':'+str(agora.minute)+\":\"+str(agora.second))"
      ]
    },
    {
      "cell_type": "code",
      "execution_count": 30,
      "id": "8d5ef68e",
      "metadata": {
        "id": "8d5ef68e"
      },
      "outputs": [],
      "source": [
        "# Importando o KFold e o GridSearchCV\n",
        "from sklearn.model_selection import GridSearchCV\n",
        "from sklearn.model_selection import KFold"
      ]
    },
    {
      "cell_type": "code",
      "execution_count": 31,
      "id": "53a844b8",
      "metadata": {
        "id": "53a844b8",
        "outputId": "d6601d85-fe5a-442f-9e50-e30a53d6b93d",
        "colab": {
          "base_uri": "https://localhost:8080/"
        }
      },
      "outputs": [
        {
          "output_type": "stream",
          "name": "stdout",
          "text": [
            "17:53:6\n",
            "17:53:18\n"
          ]
        }
      ],
      "source": [
        "# Para a Regressão Logística\n",
        "hora_atual()\n",
        "kfold_rl = KFold(shuffle=True,random_state=42,n_splits=8)\n",
        "grid_search_rl = GridSearchCV(clf_rl, parametros_rl,scoring='accuracy',cv=kfold_rl)\n",
        "grid_search_rl = grid_search_rl.fit(X_train,y_train)\n",
        "hora_atual()"
      ]
    },
    {
      "cell_type": "code",
      "execution_count": 33,
      "id": "35a0e51d",
      "metadata": {
        "id": "35a0e51d",
        "outputId": "813bd986-60fb-40d5-9082-e65869ca8469",
        "colab": {
          "base_uri": "https://localhost:8080/"
        }
      },
      "outputs": [
        {
          "output_type": "stream",
          "name": "stdout",
          "text": [
            "18:11:1\n",
            "18:33:57\n"
          ]
        }
      ],
      "source": [
        "# Para o RandomForest\n",
        "hora_atual()\n",
        "kfold_rf = KFold(shuffle=True,random_state=42,n_splits=8)\n",
        "grid_search_rf = GridSearchCV(clf_rf, parametros_rf,scoring='accuracy',cv=kfold_rf)\n",
        "grid_search_rf = grid_search_rf.fit(X_train,y_train)\n",
        "hora_atual()"
      ]
    },
    {
      "cell_type": "code",
      "execution_count": 34,
      "id": "33444b4d",
      "metadata": {
        "id": "33444b4d",
        "outputId": "bb2b8662-a0e7-409a-bf00-3fcdfafc328b",
        "colab": {
          "base_uri": "https://localhost:8080/"
        }
      },
      "outputs": [
        {
          "output_type": "stream",
          "name": "stdout",
          "text": [
            "18:33:57\n",
            "18:49:34\n"
          ]
        }
      ],
      "source": [
        "# Para o MLPClassifier\n",
        "hora_atual()\n",
        "kfold_mlp = KFold(shuffle=True,random_state=42,n_splits=8)\n",
        "grid_search_mlp = GridSearchCV(clf_mlp, parametros_mlp,scoring='accuracy',cv=kfold_mlp)\n",
        "grid_search_mlp = grid_search_mlp.fit(X_train,y_train)\n",
        "hora_atual()"
      ]
    },
    {
      "cell_type": "markdown",
      "id": "c93d7022",
      "metadata": {
        "id": "c93d7022"
      },
      "source": [
        "- **Verificando os melhores scores**"
      ]
    },
    {
      "cell_type": "code",
      "execution_count": 35,
      "id": "a0e44b11",
      "metadata": {
        "id": "a0e44b11",
        "outputId": "dbd33ae7-614d-45f6-a3f5-6a1b2be57d2b",
        "colab": {
          "base_uri": "https://localhost:8080/"
        }
      },
      "outputs": [
        {
          "output_type": "execute_result",
          "data": {
            "text/plain": [
              "0.8089887640449438"
            ]
          },
          "metadata": {},
          "execution_count": 35
        }
      ],
      "source": [
        "# Verificando o melhor score da regressão logística\n",
        "grid_search_rl.best_score_"
      ]
    },
    {
      "cell_type": "code",
      "execution_count": 36,
      "id": "d7730812",
      "metadata": {
        "id": "d7730812",
        "outputId": "421b8795-e038-4094-b6bb-0bd4377b576b",
        "colab": {
          "base_uri": "https://localhost:8080/"
        }
      },
      "outputs": [
        {
          "output_type": "execute_result",
          "data": {
            "text/plain": [
              "0.8314606741573034"
            ]
          },
          "metadata": {},
          "execution_count": 36
        }
      ],
      "source": [
        "# Para o RandomForest\n",
        "grid_search_rf.best_score_"
      ]
    },
    {
      "cell_type": "code",
      "execution_count": 37,
      "id": "a9af6bb4",
      "metadata": {
        "id": "a9af6bb4",
        "outputId": "f6a27a51-069e-4a09-e7f6-efc9ef782628",
        "colab": {
          "base_uri": "https://localhost:8080/"
        }
      },
      "outputs": [
        {
          "output_type": "execute_result",
          "data": {
            "text/plain": [
              "0.8174157303370786"
            ]
          },
          "metadata": {},
          "execution_count": 37
        }
      ],
      "source": [
        "# e para o MLPClassifier\n",
        "grid_search_mlp.best_score_"
      ]
    },
    {
      "cell_type": "markdown",
      "id": "65c9d920",
      "metadata": {
        "id": "65c9d920"
      },
      "source": [
        "- **E os melhores parâmetros**"
      ]
    },
    {
      "cell_type": "code",
      "execution_count": 38,
      "id": "0bcef275",
      "metadata": {
        "id": "0bcef275",
        "outputId": "991c28bb-8923-4a91-fb9a-983446851f6f",
        "colab": {
          "base_uri": "https://localhost:8080/"
        }
      },
      "outputs": [
        {
          "output_type": "execute_result",
          "data": {
            "text/plain": [
              "{'C': 0.1, 'max_iter': 100, 'penalty': 'l2', 'solver': 'lbfgs'}"
            ]
          },
          "metadata": {},
          "execution_count": 38
        }
      ],
      "source": [
        "# Verificando os melhores parâmetros da regressão logística\n",
        "grid_search_rl.best_params_"
      ]
    },
    {
      "cell_type": "code",
      "execution_count": 39,
      "id": "9cf159e6",
      "metadata": {
        "id": "9cf159e6",
        "outputId": "eb469aa9-0d78-42b8-bc63-b84b2011f91d",
        "colab": {
          "base_uri": "https://localhost:8080/"
        }
      },
      "outputs": [
        {
          "output_type": "execute_result",
          "data": {
            "text/plain": [
              "{'criterion': 'entropy',\n",
              " 'max_depth': 6,\n",
              " 'max_features': 'sqrt',\n",
              " 'n_estimators': 100}"
            ]
          },
          "metadata": {},
          "execution_count": 39
        }
      ],
      "source": [
        "# Para o RandomForest\n",
        "grid_search_rf.best_params_"
      ]
    },
    {
      "cell_type": "code",
      "execution_count": 40,
      "id": "c1f0aa91",
      "metadata": {
        "id": "c1f0aa91",
        "outputId": "5d17efac-916b-40ac-ab13-5d68350be964",
        "colab": {
          "base_uri": "https://localhost:8080/"
        }
      },
      "outputs": [
        {
          "output_type": "execute_result",
          "data": {
            "text/plain": [
              "{'alpha': 0.1, 'max_iter': 200, 'solver': 'adam'}"
            ]
          },
          "metadata": {},
          "execution_count": 40
        }
      ],
      "source": [
        "# e para o MLPClassifier\n",
        "grid_search_mlp.best_params_"
      ]
    },
    {
      "cell_type": "markdown",
      "id": "74c90417",
      "metadata": {
        "id": "74c90417"
      },
      "source": [
        "- **Fazendo a previsão nos dados de validação com cada um dos melhores modelos**"
      ]
    },
    {
      "cell_type": "code",
      "execution_count": 41,
      "id": "10c856c7",
      "metadata": {
        "id": "10c856c7"
      },
      "outputs": [],
      "source": [
        "# Para a regressão logística\n",
        "clf_best_rl = grid_search_rl.best_estimator_\n",
        "y_pred_rl = clf_best_rl.predict(X_val)"
      ]
    },
    {
      "cell_type": "code",
      "execution_count": 42,
      "id": "77f641a2",
      "metadata": {
        "id": "77f641a2"
      },
      "outputs": [],
      "source": [
        "# Para o RandomForest\n",
        "clf_best_rf = grid_search_rf.best_estimator_\n",
        "y_pred_rf = clf_best_rf.predict(X_val)"
      ]
    },
    {
      "cell_type": "code",
      "execution_count": 43,
      "id": "6082be6f",
      "metadata": {
        "id": "6082be6f"
      },
      "outputs": [],
      "source": [
        "# e para o MLPClassifier\n",
        "clf_best_mlp = grid_search_mlp.best_estimator_\n",
        "y_pred_mlp = clf_best_mlp.predict(X_val)"
      ]
    },
    {
      "cell_type": "markdown",
      "id": "d76a8036",
      "metadata": {
        "id": "d76a8036"
      },
      "source": [
        "- Vamos novamente **avaliar os modelos**\n",
        "    - Acurácia (método de avaliação usado na competição):\n",
        "        - https://scikit-learn.org/stable/modules/generated/sklearn.metrics.accuracy_score.html\n",
        "    - Matriz de confusão (ajuda a visualizar a distribuição dos erros):\n",
        "        - https://scikit-learn.org/stable/modules/generated/sklearn.metrics.confusion_matrix.html"
      ]
    },
    {
      "cell_type": "markdown",
      "id": "bf694913",
      "metadata": {
        "id": "bf694913"
      },
      "source": [
        "- Avaliando a **acurácia**"
      ]
    },
    {
      "cell_type": "code",
      "execution_count": 44,
      "id": "02fbd240",
      "metadata": {
        "id": "02fbd240"
      },
      "outputs": [],
      "source": [
        "# Importando\n",
        "from sklearn.metrics import accuracy_score"
      ]
    },
    {
      "cell_type": "code",
      "execution_count": 45,
      "id": "708543cc",
      "metadata": {
        "id": "708543cc",
        "outputId": "dbde026f-77a2-434d-b591-d608e361c114",
        "colab": {
          "base_uri": "https://localhost:8080/"
        }
      },
      "outputs": [
        {
          "output_type": "execute_result",
          "data": {
            "text/plain": [
              "0.8044692737430168"
            ]
          },
          "metadata": {},
          "execution_count": 45
        }
      ],
      "source": [
        "# Para a Regressão Logística\n",
        "accuracy_score(y_val, y_pred_rl)"
      ]
    },
    {
      "cell_type": "code",
      "execution_count": 46,
      "id": "e38b7270",
      "metadata": {
        "id": "e38b7270",
        "outputId": "8b2a1a13-f98d-45ec-b28a-5acad36958a3",
        "colab": {
          "base_uri": "https://localhost:8080/"
        }
      },
      "outputs": [
        {
          "output_type": "execute_result",
          "data": {
            "text/plain": [
              "0.8100558659217877"
            ]
          },
          "metadata": {},
          "execution_count": 46
        }
      ],
      "source": [
        "# Para o Random Forest\n",
        "accuracy_score(y_val, y_pred_rf)"
      ]
    },
    {
      "cell_type": "code",
      "execution_count": 47,
      "id": "446439ae",
      "metadata": {
        "id": "446439ae",
        "outputId": "a6490014-522b-47c8-d0c8-e5ce9427f9db",
        "colab": {
          "base_uri": "https://localhost:8080/"
        }
      },
      "outputs": [
        {
          "output_type": "execute_result",
          "data": {
            "text/plain": [
              "0.8100558659217877"
            ]
          },
          "metadata": {},
          "execution_count": 47
        }
      ],
      "source": [
        "# Para o MLPClassifier (Redes Neurais)\n",
        "accuracy_score(y_val, y_pred_mlp)"
      ]
    },
    {
      "cell_type": "markdown",
      "id": "86e8e994",
      "metadata": {
        "id": "86e8e994"
      },
      "source": [
        "- Avaliando a **matriz de confusão**"
      ]
    },
    {
      "cell_type": "code",
      "execution_count": 48,
      "id": "d8265dc0",
      "metadata": {
        "id": "d8265dc0"
      },
      "outputs": [],
      "source": [
        "# Importando\n",
        "from sklearn.metrics import confusion_matrix"
      ]
    },
    {
      "cell_type": "code",
      "execution_count": 49,
      "id": "9f7278ae",
      "metadata": {
        "id": "9f7278ae",
        "outputId": "7308629e-03c5-40ff-8dbe-2f6cef5de5da",
        "colab": {
          "base_uri": "https://localhost:8080/"
        }
      },
      "outputs": [
        {
          "output_type": "execute_result",
          "data": {
            "text/plain": [
              "array([[91, 14],\n",
              "       [21, 53]])"
            ]
          },
          "metadata": {},
          "execution_count": 49
        }
      ],
      "source": [
        "# Para a Regressão Logística\n",
        "confusion_matrix(y_val, y_pred_rl)"
      ]
    },
    {
      "cell_type": "code",
      "execution_count": 50,
      "id": "b4e9c36a",
      "metadata": {
        "id": "b4e9c36a",
        "outputId": "13803357-2b7f-4174-a3f1-a8eb05e7e0f7",
        "colab": {
          "base_uri": "https://localhost:8080/"
        }
      },
      "outputs": [
        {
          "output_type": "execute_result",
          "data": {
            "text/plain": [
              "array([[93, 12],\n",
              "       [22, 52]])"
            ]
          },
          "metadata": {},
          "execution_count": 50
        }
      ],
      "source": [
        "# Para o Random Forest\n",
        "confusion_matrix(y_val, y_pred_rf)"
      ]
    },
    {
      "cell_type": "code",
      "execution_count": 51,
      "id": "4edc78f2",
      "metadata": {
        "id": "4edc78f2",
        "outputId": "f3520efb-5f81-4380-b8d0-fa11cae7353a",
        "colab": {
          "base_uri": "https://localhost:8080/"
        }
      },
      "outputs": [
        {
          "output_type": "execute_result",
          "data": {
            "text/plain": [
              "array([[92, 13],\n",
              "       [21, 53]])"
            ]
          },
          "metadata": {},
          "execution_count": 51
        }
      ],
      "source": [
        "# Para o MLPClassifier (Redes Neurais)\n",
        "confusion_matrix(y_val, y_pred_mlp)"
      ]
    },
    {
      "cell_type": "markdown",
      "id": "4656b058",
      "metadata": {
        "id": "4656b058"
      },
      "source": [
        "### Fazendo a previsão para os dados de teste\n",
        "- Vamos usar o modelo com melhor precisão para fazer o predict na base de teste"
      ]
    },
    {
      "cell_type": "code",
      "execution_count": 52,
      "id": "d316d0f3",
      "metadata": {
        "id": "d316d0f3",
        "outputId": "a4f0e98c-eda3-4712-e556-16f4026b5998",
        "colab": {
          "base_uri": "https://localhost:8080/",
          "height": 187
        }
      },
      "outputs": [
        {
          "output_type": "execute_result",
          "data": {
            "text/plain": [
              "     Pclass       Age  SibSp  Parch      Fare  Embarked  MaleCheck  Sozinho  \\\n",
              "331       1  1.215452      0      0  0.608317         0          1        1   \n",
              "733       2 -0.515317      0      0 -0.062981         0          1        1   \n",
              "382       3  0.176991      0      0 -0.282777         0          1        1   \n",
              "\n",
              "     Familiares  \n",
              "331           0  \n",
              "733           0  \n",
              "382           0  "
            ],
            "text/html": [
              "\n",
              "\n",
              "  <div id=\"df-1984cfe8-6d62-4cd1-9282-f3e8afbd4579\">\n",
              "    <div class=\"colab-df-container\">\n",
              "      <div>\n",
              "<style scoped>\n",
              "    .dataframe tbody tr th:only-of-type {\n",
              "        vertical-align: middle;\n",
              "    }\n",
              "\n",
              "    .dataframe tbody tr th {\n",
              "        vertical-align: top;\n",
              "    }\n",
              "\n",
              "    .dataframe thead th {\n",
              "        text-align: right;\n",
              "    }\n",
              "</style>\n",
              "<table border=\"1\" class=\"dataframe\">\n",
              "  <thead>\n",
              "    <tr style=\"text-align: right;\">\n",
              "      <th></th>\n",
              "      <th>Pclass</th>\n",
              "      <th>Age</th>\n",
              "      <th>SibSp</th>\n",
              "      <th>Parch</th>\n",
              "      <th>Fare</th>\n",
              "      <th>Embarked</th>\n",
              "      <th>MaleCheck</th>\n",
              "      <th>Sozinho</th>\n",
              "      <th>Familiares</th>\n",
              "    </tr>\n",
              "  </thead>\n",
              "  <tbody>\n",
              "    <tr>\n",
              "      <th>331</th>\n",
              "      <td>1</td>\n",
              "      <td>1.215452</td>\n",
              "      <td>0</td>\n",
              "      <td>0</td>\n",
              "      <td>0.608317</td>\n",
              "      <td>0</td>\n",
              "      <td>1</td>\n",
              "      <td>1</td>\n",
              "      <td>0</td>\n",
              "    </tr>\n",
              "    <tr>\n",
              "      <th>733</th>\n",
              "      <td>2</td>\n",
              "      <td>-0.515317</td>\n",
              "      <td>0</td>\n",
              "      <td>0</td>\n",
              "      <td>-0.062981</td>\n",
              "      <td>0</td>\n",
              "      <td>1</td>\n",
              "      <td>1</td>\n",
              "      <td>0</td>\n",
              "    </tr>\n",
              "    <tr>\n",
              "      <th>382</th>\n",
              "      <td>3</td>\n",
              "      <td>0.176991</td>\n",
              "      <td>0</td>\n",
              "      <td>0</td>\n",
              "      <td>-0.282777</td>\n",
              "      <td>0</td>\n",
              "      <td>1</td>\n",
              "      <td>1</td>\n",
              "      <td>0</td>\n",
              "    </tr>\n",
              "  </tbody>\n",
              "</table>\n",
              "</div>\n",
              "      <button class=\"colab-df-convert\" onclick=\"convertToInteractive('df-1984cfe8-6d62-4cd1-9282-f3e8afbd4579')\"\n",
              "              title=\"Convert this dataframe to an interactive table.\"\n",
              "              style=\"display:none;\">\n",
              "\n",
              "  <svg xmlns=\"http://www.w3.org/2000/svg\" height=\"24px\"viewBox=\"0 0 24 24\"\n",
              "       width=\"24px\">\n",
              "    <path d=\"M0 0h24v24H0V0z\" fill=\"none\"/>\n",
              "    <path d=\"M18.56 5.44l.94 2.06.94-2.06 2.06-.94-2.06-.94-.94-2.06-.94 2.06-2.06.94zm-11 1L8.5 8.5l.94-2.06 2.06-.94-2.06-.94L8.5 2.5l-.94 2.06-2.06.94zm10 10l.94 2.06.94-2.06 2.06-.94-2.06-.94-.94-2.06-.94 2.06-2.06.94z\"/><path d=\"M17.41 7.96l-1.37-1.37c-.4-.4-.92-.59-1.43-.59-.52 0-1.04.2-1.43.59L10.3 9.45l-7.72 7.72c-.78.78-.78 2.05 0 2.83L4 21.41c.39.39.9.59 1.41.59.51 0 1.02-.2 1.41-.59l7.78-7.78 2.81-2.81c.8-.78.8-2.07 0-2.86zM5.41 20L4 18.59l7.72-7.72 1.47 1.35L5.41 20z\"/>\n",
              "  </svg>\n",
              "      </button>\n",
              "\n",
              "\n",
              "\n",
              "    <div id=\"df-d53abd30-9adf-4e93-93a9-78cad111f913\">\n",
              "      <button class=\"colab-df-quickchart\" onclick=\"quickchart('df-d53abd30-9adf-4e93-93a9-78cad111f913')\"\n",
              "              title=\"Suggest charts.\"\n",
              "              style=\"display:none;\">\n",
              "\n",
              "<svg xmlns=\"http://www.w3.org/2000/svg\" height=\"24px\"viewBox=\"0 0 24 24\"\n",
              "     width=\"24px\">\n",
              "    <g>\n",
              "        <path d=\"M19 3H5c-1.1 0-2 .9-2 2v14c0 1.1.9 2 2 2h14c1.1 0 2-.9 2-2V5c0-1.1-.9-2-2-2zM9 17H7v-7h2v7zm4 0h-2V7h2v10zm4 0h-2v-4h2v4z\"/>\n",
              "    </g>\n",
              "</svg>\n",
              "      </button>\n",
              "    </div>\n",
              "\n",
              "<style>\n",
              "  .colab-df-quickchart {\n",
              "    background-color: #E8F0FE;\n",
              "    border: none;\n",
              "    border-radius: 50%;\n",
              "    cursor: pointer;\n",
              "    display: none;\n",
              "    fill: #1967D2;\n",
              "    height: 32px;\n",
              "    padding: 0 0 0 0;\n",
              "    width: 32px;\n",
              "  }\n",
              "\n",
              "  .colab-df-quickchart:hover {\n",
              "    background-color: #E2EBFA;\n",
              "    box-shadow: 0px 1px 2px rgba(60, 64, 67, 0.3), 0px 1px 3px 1px rgba(60, 64, 67, 0.15);\n",
              "    fill: #174EA6;\n",
              "  }\n",
              "\n",
              "  [theme=dark] .colab-df-quickchart {\n",
              "    background-color: #3B4455;\n",
              "    fill: #D2E3FC;\n",
              "  }\n",
              "\n",
              "  [theme=dark] .colab-df-quickchart:hover {\n",
              "    background-color: #434B5C;\n",
              "    box-shadow: 0px 1px 3px 1px rgba(0, 0, 0, 0.15);\n",
              "    filter: drop-shadow(0px 1px 2px rgba(0, 0, 0, 0.3));\n",
              "    fill: #FFFFFF;\n",
              "  }\n",
              "</style>\n",
              "\n",
              "    <script>\n",
              "      async function quickchart(key) {\n",
              "        const containerElement = document.querySelector('#' + key);\n",
              "        const charts = await google.colab.kernel.invokeFunction(\n",
              "            'suggestCharts', [key], {});\n",
              "      }\n",
              "    </script>\n",
              "\n",
              "      <script>\n",
              "\n",
              "function displayQuickchartButton(domScope) {\n",
              "  let quickchartButtonEl =\n",
              "    domScope.querySelector('#df-d53abd30-9adf-4e93-93a9-78cad111f913 button.colab-df-quickchart');\n",
              "  quickchartButtonEl.style.display =\n",
              "    google.colab.kernel.accessAllowed ? 'block' : 'none';\n",
              "}\n",
              "\n",
              "        displayQuickchartButton(document);\n",
              "      </script>\n",
              "      <style>\n",
              "    .colab-df-container {\n",
              "      display:flex;\n",
              "      flex-wrap:wrap;\n",
              "      gap: 12px;\n",
              "    }\n",
              "\n",
              "    .colab-df-convert {\n",
              "      background-color: #E8F0FE;\n",
              "      border: none;\n",
              "      border-radius: 50%;\n",
              "      cursor: pointer;\n",
              "      display: none;\n",
              "      fill: #1967D2;\n",
              "      height: 32px;\n",
              "      padding: 0 0 0 0;\n",
              "      width: 32px;\n",
              "    }\n",
              "\n",
              "    .colab-df-convert:hover {\n",
              "      background-color: #E2EBFA;\n",
              "      box-shadow: 0px 1px 2px rgba(60, 64, 67, 0.3), 0px 1px 3px 1px rgba(60, 64, 67, 0.15);\n",
              "      fill: #174EA6;\n",
              "    }\n",
              "\n",
              "    [theme=dark] .colab-df-convert {\n",
              "      background-color: #3B4455;\n",
              "      fill: #D2E3FC;\n",
              "    }\n",
              "\n",
              "    [theme=dark] .colab-df-convert:hover {\n",
              "      background-color: #434B5C;\n",
              "      box-shadow: 0px 1px 3px 1px rgba(0, 0, 0, 0.15);\n",
              "      filter: drop-shadow(0px 1px 2px rgba(0, 0, 0, 0.3));\n",
              "      fill: #FFFFFF;\n",
              "    }\n",
              "  </style>\n",
              "\n",
              "      <script>\n",
              "        const buttonEl =\n",
              "          document.querySelector('#df-1984cfe8-6d62-4cd1-9282-f3e8afbd4579 button.colab-df-convert');\n",
              "        buttonEl.style.display =\n",
              "          google.colab.kernel.accessAllowed ? 'block' : 'none';\n",
              "\n",
              "        async function convertToInteractive(key) {\n",
              "          const element = document.querySelector('#df-1984cfe8-6d62-4cd1-9282-f3e8afbd4579');\n",
              "          const dataTable =\n",
              "            await google.colab.kernel.invokeFunction('convertToInteractive',\n",
              "                                                     [key], {});\n",
              "          if (!dataTable) return;\n",
              "\n",
              "          const docLinkHtml = 'Like what you see? Visit the ' +\n",
              "            '<a target=\"_blank\" href=https://colab.research.google.com/notebooks/data_table.ipynb>data table notebook</a>'\n",
              "            + ' to learn more about interactive tables.';\n",
              "          element.innerHTML = '';\n",
              "          dataTable['output_type'] = 'display_data';\n",
              "          await google.colab.output.renderOutput(dataTable, element);\n",
              "          const docLink = document.createElement('div');\n",
              "          docLink.innerHTML = docLinkHtml;\n",
              "          element.appendChild(docLink);\n",
              "        }\n",
              "      </script>\n",
              "    </div>\n",
              "  </div>\n"
            ]
          },
          "metadata": {},
          "execution_count": 52
        }
      ],
      "source": [
        "# Visualizando o X_train\n",
        "X_train.head(3)"
      ]
    },
    {
      "cell_type": "code",
      "execution_count": 53,
      "id": "b97efd5c",
      "metadata": {
        "id": "b97efd5c",
        "outputId": "06a3aba3-0625-43e9-a6a4-18e59d4a7f70",
        "colab": {
          "base_uri": "https://localhost:8080/",
          "height": 207
        }
      },
      "outputs": [
        {
          "output_type": "execute_result",
          "data": {
            "text/plain": [
              "   PassengerId  Pclass       Age  SibSp  Parch      Fare  Embarked  MaleCheck  \\\n",
              "0          892       3  0.331562      0      0 -0.280670         2          1   \n",
              "1          893       3  1.311954      1      0 -0.315800         0          0   \n",
              "2          894       2  2.488424      0      0 -0.201943         2          1   \n",
              "\n",
              "   Sozinho  Familiares  \n",
              "0        1           1  \n",
              "1        0           1  \n",
              "2        1           0  "
            ],
            "text/html": [
              "\n",
              "\n",
              "  <div id=\"df-fff45568-3445-430b-8aa5-3cbcde4840b9\">\n",
              "    <div class=\"colab-df-container\">\n",
              "      <div>\n",
              "<style scoped>\n",
              "    .dataframe tbody tr th:only-of-type {\n",
              "        vertical-align: middle;\n",
              "    }\n",
              "\n",
              "    .dataframe tbody tr th {\n",
              "        vertical-align: top;\n",
              "    }\n",
              "\n",
              "    .dataframe thead th {\n",
              "        text-align: right;\n",
              "    }\n",
              "</style>\n",
              "<table border=\"1\" class=\"dataframe\">\n",
              "  <thead>\n",
              "    <tr style=\"text-align: right;\">\n",
              "      <th></th>\n",
              "      <th>PassengerId</th>\n",
              "      <th>Pclass</th>\n",
              "      <th>Age</th>\n",
              "      <th>SibSp</th>\n",
              "      <th>Parch</th>\n",
              "      <th>Fare</th>\n",
              "      <th>Embarked</th>\n",
              "      <th>MaleCheck</th>\n",
              "      <th>Sozinho</th>\n",
              "      <th>Familiares</th>\n",
              "    </tr>\n",
              "  </thead>\n",
              "  <tbody>\n",
              "    <tr>\n",
              "      <th>0</th>\n",
              "      <td>892</td>\n",
              "      <td>3</td>\n",
              "      <td>0.331562</td>\n",
              "      <td>0</td>\n",
              "      <td>0</td>\n",
              "      <td>-0.280670</td>\n",
              "      <td>2</td>\n",
              "      <td>1</td>\n",
              "      <td>1</td>\n",
              "      <td>1</td>\n",
              "    </tr>\n",
              "    <tr>\n",
              "      <th>1</th>\n",
              "      <td>893</td>\n",
              "      <td>3</td>\n",
              "      <td>1.311954</td>\n",
              "      <td>1</td>\n",
              "      <td>0</td>\n",
              "      <td>-0.315800</td>\n",
              "      <td>0</td>\n",
              "      <td>0</td>\n",
              "      <td>0</td>\n",
              "      <td>1</td>\n",
              "    </tr>\n",
              "    <tr>\n",
              "      <th>2</th>\n",
              "      <td>894</td>\n",
              "      <td>2</td>\n",
              "      <td>2.488424</td>\n",
              "      <td>0</td>\n",
              "      <td>0</td>\n",
              "      <td>-0.201943</td>\n",
              "      <td>2</td>\n",
              "      <td>1</td>\n",
              "      <td>1</td>\n",
              "      <td>0</td>\n",
              "    </tr>\n",
              "  </tbody>\n",
              "</table>\n",
              "</div>\n",
              "      <button class=\"colab-df-convert\" onclick=\"convertToInteractive('df-fff45568-3445-430b-8aa5-3cbcde4840b9')\"\n",
              "              title=\"Convert this dataframe to an interactive table.\"\n",
              "              style=\"display:none;\">\n",
              "\n",
              "  <svg xmlns=\"http://www.w3.org/2000/svg\" height=\"24px\"viewBox=\"0 0 24 24\"\n",
              "       width=\"24px\">\n",
              "    <path d=\"M0 0h24v24H0V0z\" fill=\"none\"/>\n",
              "    <path d=\"M18.56 5.44l.94 2.06.94-2.06 2.06-.94-2.06-.94-.94-2.06-.94 2.06-2.06.94zm-11 1L8.5 8.5l.94-2.06 2.06-.94-2.06-.94L8.5 2.5l-.94 2.06-2.06.94zm10 10l.94 2.06.94-2.06 2.06-.94-2.06-.94-.94-2.06-.94 2.06-2.06.94z\"/><path d=\"M17.41 7.96l-1.37-1.37c-.4-.4-.92-.59-1.43-.59-.52 0-1.04.2-1.43.59L10.3 9.45l-7.72 7.72c-.78.78-.78 2.05 0 2.83L4 21.41c.39.39.9.59 1.41.59.51 0 1.02-.2 1.41-.59l7.78-7.78 2.81-2.81c.8-.78.8-2.07 0-2.86zM5.41 20L4 18.59l7.72-7.72 1.47 1.35L5.41 20z\"/>\n",
              "  </svg>\n",
              "      </button>\n",
              "\n",
              "\n",
              "\n",
              "    <div id=\"df-c5055c82-ae83-4ec6-a832-9840e8bad02c\">\n",
              "      <button class=\"colab-df-quickchart\" onclick=\"quickchart('df-c5055c82-ae83-4ec6-a832-9840e8bad02c')\"\n",
              "              title=\"Suggest charts.\"\n",
              "              style=\"display:none;\">\n",
              "\n",
              "<svg xmlns=\"http://www.w3.org/2000/svg\" height=\"24px\"viewBox=\"0 0 24 24\"\n",
              "     width=\"24px\">\n",
              "    <g>\n",
              "        <path d=\"M19 3H5c-1.1 0-2 .9-2 2v14c0 1.1.9 2 2 2h14c1.1 0 2-.9 2-2V5c0-1.1-.9-2-2-2zM9 17H7v-7h2v7zm4 0h-2V7h2v10zm4 0h-2v-4h2v4z\"/>\n",
              "    </g>\n",
              "</svg>\n",
              "      </button>\n",
              "    </div>\n",
              "\n",
              "<style>\n",
              "  .colab-df-quickchart {\n",
              "    background-color: #E8F0FE;\n",
              "    border: none;\n",
              "    border-radius: 50%;\n",
              "    cursor: pointer;\n",
              "    display: none;\n",
              "    fill: #1967D2;\n",
              "    height: 32px;\n",
              "    padding: 0 0 0 0;\n",
              "    width: 32px;\n",
              "  }\n",
              "\n",
              "  .colab-df-quickchart:hover {\n",
              "    background-color: #E2EBFA;\n",
              "    box-shadow: 0px 1px 2px rgba(60, 64, 67, 0.3), 0px 1px 3px 1px rgba(60, 64, 67, 0.15);\n",
              "    fill: #174EA6;\n",
              "  }\n",
              "\n",
              "  [theme=dark] .colab-df-quickchart {\n",
              "    background-color: #3B4455;\n",
              "    fill: #D2E3FC;\n",
              "  }\n",
              "\n",
              "  [theme=dark] .colab-df-quickchart:hover {\n",
              "    background-color: #434B5C;\n",
              "    box-shadow: 0px 1px 3px 1px rgba(0, 0, 0, 0.15);\n",
              "    filter: drop-shadow(0px 1px 2px rgba(0, 0, 0, 0.3));\n",
              "    fill: #FFFFFF;\n",
              "  }\n",
              "</style>\n",
              "\n",
              "    <script>\n",
              "      async function quickchart(key) {\n",
              "        const containerElement = document.querySelector('#' + key);\n",
              "        const charts = await google.colab.kernel.invokeFunction(\n",
              "            'suggestCharts', [key], {});\n",
              "      }\n",
              "    </script>\n",
              "\n",
              "      <script>\n",
              "\n",
              "function displayQuickchartButton(domScope) {\n",
              "  let quickchartButtonEl =\n",
              "    domScope.querySelector('#df-c5055c82-ae83-4ec6-a832-9840e8bad02c button.colab-df-quickchart');\n",
              "  quickchartButtonEl.style.display =\n",
              "    google.colab.kernel.accessAllowed ? 'block' : 'none';\n",
              "}\n",
              "\n",
              "        displayQuickchartButton(document);\n",
              "      </script>\n",
              "      <style>\n",
              "    .colab-df-container {\n",
              "      display:flex;\n",
              "      flex-wrap:wrap;\n",
              "      gap: 12px;\n",
              "    }\n",
              "\n",
              "    .colab-df-convert {\n",
              "      background-color: #E8F0FE;\n",
              "      border: none;\n",
              "      border-radius: 50%;\n",
              "      cursor: pointer;\n",
              "      display: none;\n",
              "      fill: #1967D2;\n",
              "      height: 32px;\n",
              "      padding: 0 0 0 0;\n",
              "      width: 32px;\n",
              "    }\n",
              "\n",
              "    .colab-df-convert:hover {\n",
              "      background-color: #E2EBFA;\n",
              "      box-shadow: 0px 1px 2px rgba(60, 64, 67, 0.3), 0px 1px 3px 1px rgba(60, 64, 67, 0.15);\n",
              "      fill: #174EA6;\n",
              "    }\n",
              "\n",
              "    [theme=dark] .colab-df-convert {\n",
              "      background-color: #3B4455;\n",
              "      fill: #D2E3FC;\n",
              "    }\n",
              "\n",
              "    [theme=dark] .colab-df-convert:hover {\n",
              "      background-color: #434B5C;\n",
              "      box-shadow: 0px 1px 3px 1px rgba(0, 0, 0, 0.15);\n",
              "      filter: drop-shadow(0px 1px 2px rgba(0, 0, 0, 0.3));\n",
              "      fill: #FFFFFF;\n",
              "    }\n",
              "  </style>\n",
              "\n",
              "      <script>\n",
              "        const buttonEl =\n",
              "          document.querySelector('#df-fff45568-3445-430b-8aa5-3cbcde4840b9 button.colab-df-convert');\n",
              "        buttonEl.style.display =\n",
              "          google.colab.kernel.accessAllowed ? 'block' : 'none';\n",
              "\n",
              "        async function convertToInteractive(key) {\n",
              "          const element = document.querySelector('#df-fff45568-3445-430b-8aa5-3cbcde4840b9');\n",
              "          const dataTable =\n",
              "            await google.colab.kernel.invokeFunction('convertToInteractive',\n",
              "                                                     [key], {});\n",
              "          if (!dataTable) return;\n",
              "\n",
              "          const docLinkHtml = 'Like what you see? Visit the ' +\n",
              "            '<a target=\"_blank\" href=https://colab.research.google.com/notebooks/data_table.ipynb>data table notebook</a>'\n",
              "            + ' to learn more about interactive tables.';\n",
              "          element.innerHTML = '';\n",
              "          dataTable['output_type'] = 'display_data';\n",
              "          await google.colab.output.renderOutput(dataTable, element);\n",
              "          const docLink = document.createElement('div');\n",
              "          docLink.innerHTML = docLinkHtml;\n",
              "          element.appendChild(docLink);\n",
              "        }\n",
              "      </script>\n",
              "    </div>\n",
              "  </div>\n"
            ]
          },
          "metadata": {},
          "execution_count": 53
        }
      ],
      "source": [
        "# Visualizando a base de teste\n",
        "teste.head(3)"
      ]
    },
    {
      "cell_type": "code",
      "execution_count": 54,
      "id": "e34f5ff4",
      "metadata": {
        "id": "e34f5ff4"
      },
      "outputs": [],
      "source": [
        "# Para a base de teste ser igual a base de treino, precisamos eliminar a coluna de id\n",
        "X_teste = teste.drop('PassengerId',axis=1)"
      ]
    },
    {
      "cell_type": "code",
      "execution_count": 55,
      "id": "f0497a13",
      "metadata": {
        "id": "f0497a13"
      },
      "outputs": [],
      "source": [
        "# Utilizando o melhor modelo na base de teste\n",
        "y_pred = clf_best_rf.predict(X_teste)"
      ]
    },
    {
      "cell_type": "code",
      "execution_count": 56,
      "id": "08fffa82",
      "metadata": {
        "id": "08fffa82"
      },
      "outputs": [],
      "source": [
        "# Criando uma nova coluna com a previsão na base de teste\n",
        "teste['Survived'] = y_pred"
      ]
    },
    {
      "cell_type": "code",
      "execution_count": 57,
      "id": "8b1fb599",
      "metadata": {
        "id": "8b1fb599"
      },
      "outputs": [],
      "source": [
        "# Selecionando apenas a coluna de Id e Survived para fazer o envio\n",
        "base_envio = teste[['PassengerId','Survived']]"
      ]
    },
    {
      "cell_type": "code",
      "execution_count": 58,
      "id": "2965c544",
      "metadata": {
        "id": "2965c544"
      },
      "outputs": [],
      "source": [
        "# Exportando para um csv\n",
        "base_envio.to_csv('resultados10.csv',index=False)"
      ]
    }
  ],
  "metadata": {
    "kernelspec": {
      "display_name": "Python 3 (ipykernel)",
      "language": "python",
      "name": "python3"
    },
    "language_info": {
      "codemirror_mode": {
        "name": "ipython",
        "version": 3
      },
      "file_extension": ".py",
      "mimetype": "text/x-python",
      "name": "python",
      "nbconvert_exporter": "python",
      "pygments_lexer": "ipython3",
      "version": "3.9.13"
    },
    "colab": {
      "provenance": []
    }
  },
  "nbformat": 4,
  "nbformat_minor": 5
}